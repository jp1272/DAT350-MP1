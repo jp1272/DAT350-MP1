{
 "cells": [
  {
   "cell_type": "code",
   "execution_count": 1,
   "metadata": {},
   "outputs": [],
   "source": [
    "import pandas as pd\n",
    "import csv"
   ]
  },
  {
   "cell_type": "code",
   "execution_count": 2,
   "metadata": {},
   "outputs": [
    {
     "data": {
      "text/plain": [
       "(0\n",
       " 20    0.259259\n",
       " 21    0.222222\n",
       " 22    0.185185\n",
       " 23    0.074074\n",
       " 19    0.074074\n",
       " 26    0.037037\n",
       " 18    0.037037\n",
       " 54    0.037037\n",
       " 24    0.037037\n",
       " 27    0.037037\n",
       " Name: count, dtype: float64,\n",
       " 0\n",
       " Male      0.666667\n",
       " Female    0.333333\n",
       " Name: count, dtype: float64,\n",
       " 0\n",
       " 60    0.296296\n",
       " 70    0.259259\n",
       " 50    0.222222\n",
       " 40    0.148148\n",
       " 80    0.074074\n",
       " Name: count, dtype: float64)"
      ]
     },
     "execution_count": 2,
     "metadata": {},
     "output_type": "execute_result"
    }
   ],
   "source": [
    "# Find the percentage of each age group\n",
    "\n",
    "shoesDF = pd.read_csv(\"MP1.csv\")\n",
    "ageList = list(shoesDF['How old are you?'])\n",
    "\n",
    "agesDF = pd.DataFrame(ageList)\n",
    "\n",
    "ageCounts = agesDF[0].value_counts()\n",
    "\n",
    "agePercents = ageCounts / 27\n",
    "\n",
    "\n",
    "# Find percentage of each sex\n",
    "sexList = list(shoesDF['What is your sex?'])\n",
    "\n",
    "sexDF = pd.DataFrame(sexList)\n",
    "sexCounts = sexDF[0].value_counts()\n",
    "\n",
    "sexPercent = sexCounts / 27\n",
    "\n",
    "# Find percentage of weekly mileage\n",
    "mileageList = list(shoesDF['How many miles a week do you run on average?'])\n",
    "\n",
    "milesDF = pd.DataFrame(mileageList)\n",
    "mileCounts = milesDF[0].value_counts()\n",
    "\n",
    "milePercent = mileCounts / 27\n",
    "\n",
    "agePercents, sexPercent, milePercent\n",
    "\n",
    "\n"
   ]
  },
  {
   "cell_type": "code",
   "execution_count": 3,
   "metadata": {},
   "outputs": [
    {
     "data": {
      "text/plain": [
       "0\n",
       "Saucony            0.370370\n",
       "Nike               0.259259\n",
       "Hoka               0.148148\n",
       "Brooks             0.111111\n",
       "On                 0.037037\n",
       "Asics              0.037037\n",
       "I like them all    0.037037\n",
       "Name: count, dtype: float64"
      ]
     },
     "execution_count": 3,
     "metadata": {},
     "output_type": "execute_result"
    }
   ],
   "source": [
    "# Find percentage of Fav shoe brand\n",
    "brandList = list(shoesDF['What is your favorite shoe brand?'])\n",
    "\n",
    "brandDF = pd.DataFrame(brandList)\n",
    "brandCounts = brandDF[0].value_counts()\n",
    "\n",
    "brandPercent = brandCounts / 27\n",
    "\n",
    "brandPercent"
   ]
  },
  {
   "cell_type": "code",
   "execution_count": 5,
   "metadata": {},
   "outputs": [
    {
     "data": {
      "text/plain": [
       "0\n",
       "5                                    0.148148\n",
       "8                                    0.148148\n",
       "7                                    0.111111\n",
       "4                                    0.111111\n",
       "6                                    0.111111\n",
       "3                                    0.111111\n",
       "2                                    0.111111\n",
       "8                                    0.037037\n",
       "1                                    0.037037\n",
       "I have all of them except adidas     0.037037\n",
       "9                                    0.037037\n",
       "Name: count, dtype: float64"
      ]
     },
     "execution_count": 5,
     "metadata": {},
     "output_type": "execute_result"
    }
   ],
   "source": [
    "# How often they buy this brand out of 10 pairs\n",
    "oftenList = list(shoesDF['Out of 10 pairs of shoes, how many of this brand do you buy? (whole numbers)'])\n",
    "\n",
    "oftenDF = pd.DataFrame(oftenList)\n",
    "oftenCounts = oftenDF[0].value_counts()\n",
    "\n",
    "oftenPercent = oftenCounts / 27\n",
    "\n",
    "oftenPercent"
   ]
  },
  {
   "cell_type": "code",
   "execution_count": 6,
   "metadata": {},
   "outputs": [
    {
     "data": {
      "text/plain": [
       "0\n",
       "Local running store           0.481481\n",
       "From the companys website     0.259259\n",
       "Other online running store    0.222222\n",
       "Amazon                        0.037037\n",
       "Name: count, dtype: float64"
      ]
     },
     "execution_count": 6,
     "metadata": {},
     "output_type": "execute_result"
    }
   ],
   "source": [
    "# Where did they buy their shoes\n",
    "whereList = list(shoesDF['Where are you most likely to buy these shoes?'])\n",
    "\n",
    "whereDF = pd.DataFrame(whereList)\n",
    "whereCounts = whereDF[0].value_counts()\n",
    "\n",
    "wherePercent = whereCounts / 27\n",
    "\n",
    "wherePercent"
   ]
  },
  {
   "cell_type": "code",
   "execution_count": null,
   "metadata": {},
   "outputs": [],
   "source": []
  },
  {
   "cell_type": "code",
   "execution_count": null,
   "metadata": {},
   "outputs": [],
   "source": []
  }
 ],
 "metadata": {
  "kernelspec": {
   "display_name": "base",
   "language": "python",
   "name": "python3"
  },
  "language_info": {
   "codemirror_mode": {
    "name": "ipython",
    "version": 3
   },
   "file_extension": ".py",
   "mimetype": "text/x-python",
   "name": "python",
   "nbconvert_exporter": "python",
   "pygments_lexer": "ipython3",
   "version": "3.11.5"
  }
 },
 "nbformat": 4,
 "nbformat_minor": 2
}
